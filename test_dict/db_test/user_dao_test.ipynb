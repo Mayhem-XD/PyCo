{
 "cells": [
  {
   "cell_type": "code",
   "execution_count": 1,
   "metadata": {},
   "outputs": [],
   "source": [
    "import json\n",
    "from mysql.connector import pooling\n",
    "\n",
    "with open('../../mysql.json') as f:\n",
    "    config_str = f.read()\n",
    "config = json.loads(config_str)\n",
    "pool = pooling.MySQLConnectionPool(pool_name=\"mypool\", pool_size=3, **config)"
   ]
  },
  {
   "cell_type": "code",
   "execution_count": 4,
   "metadata": {},
   "outputs": [],
   "source": [
    "def get_user(uid):\n",
    "    conn = pool.get_connection()\n",
    "    cur = conn.cursor()\n",
    "    sql = \"select * from users where uid=%s\"\n",
    "    cur.execute(sql,(uid,))\n",
    "    row = cur.fetchone()\n",
    "    cur.close()\n",
    "    conn.close()\n",
    "    return row"
   ]
  },
  {
   "cell_type": "code",
   "execution_count": 9,
   "metadata": {},
   "outputs": [
    {
     "data": {
      "text/plain": [
       "(0, 'admin.jpg', '관리실')"
      ]
     },
     "execution_count": 9,
     "metadata": {},
     "output_type": "execute_result"
    }
   ],
   "source": [
    "get_user(\"admin\")[-3:]"
   ]
  },
  {
   "cell_type": "code",
   "execution_count": 2,
   "metadata": {},
   "outputs": [],
   "source": [
    "def count_users():\n",
    "    conn = pool.get_connection()\n",
    "    cur = conn.cursor()\n",
    "    sql = \"select count(uid) from users\"\n",
    "    cur.execute(sql,)\n",
    "    row = cur.fetchone()\n",
    "    cur.close()\n",
    "    conn.close()\n",
    "    return row"
   ]
  },
  {
   "cell_type": "code",
   "execution_count": 3,
   "metadata": {},
   "outputs": [
    {
     "data": {
      "text/plain": [
       "(2,)"
      ]
     },
     "execution_count": 3,
     "metadata": {},
     "output_type": "execute_result"
    }
   ],
   "source": [
    "count_users()"
   ]
  },
  {
   "cell_type": "code",
   "execution_count": null,
   "metadata": {},
   "outputs": [],
   "source": [
    "# public List<User> getUserList(int page) {\n",
    "# \t\tList<User> list = new ArrayList<User>();\n",
    "# \t\tint offset = (page - 1) * 10;\n",
    "# \t\tConnection conn = getConnection();\n",
    "# \t\tString sql = \"select * from users where isDeleted=0 order by regDate desc, uid limit 10 offset ?\";\n",
    "# \t\ttry {\n",
    "# \t\t\tPreparedStatement pstmt = conn.prepareStatement(sql);\n",
    "# \t\t\tpstmt.setInt(1, offset);\n",
    "\t\t\t\n",
    "# \t\t\tResultSet rs = pstmt.executeQuery();\n",
    "# \t\t\twhile (rs.next()) {\n",
    "# \t\t\t\tUser user = new User(rs.getString(1), rs.getString(2), rs.getString(3), rs.getString(4),\n",
    "# \t\t\t\t\t\tLocalDate.parse(rs.getString(5)), rs.getInt(6), rs.getString(7), rs.getString(8));\n",
    "# \t\t\t\tlist.add(user);\n",
    "# \t\t\t}\n",
    "# \t\t\trs.close(); pstmt.close(); conn.close();\n",
    "# \t\t} catch (Exception e) {\n",
    "# \t\t\te.printStackTrace();\n",
    "# \t\t}\n",
    "# \t\treturn list;\n",
    "# \t}"
   ]
  },
  {
   "cell_type": "code",
   "execution_count": 2,
   "metadata": {},
   "outputs": [],
   "source": [
    "def get_user_list(page):\n",
    "    offset = (page - 1) * 10\n",
    "    conn = pool.get_connection()\n",
    "    cur = conn.cursor()\n",
    "    sql = \"select * from users where isDeleted=0 order by regDate desc, uid limit 10 offset %s\"\n",
    "    cur.execute(sql,(offset,))\n",
    "    rows = cur.fetchall()\n",
    "    cur.close()\n",
    "    conn.close()\n",
    "    return rows\n",
    "    "
   ]
  },
  {
   "cell_type": "code",
   "execution_count": 3,
   "metadata": {},
   "outputs": [],
   "source": [
    "rows = get_user_list(1)"
   ]
  },
  {
   "cell_type": "code",
   "execution_count": 4,
   "metadata": {},
   "outputs": [
    {
     "name": "stdout",
     "output_type": "stream",
     "text": [
      "('arthur', '$2a$10$JQz5GpS7j/GQpwZPHuLBGeh9uYUDBiQkFO9u01Y2Weh2icwafAWhy', '아서', 'arthur@gmail.com', datetime.date(2023, 8, 13), 0, 'arthur.jpg', '르모인 생드니')\n",
      "('admin', '$2a$10$oes0BOP7JDvpuRk0YHgZrOYV7./ocgn6NrosvM9wcnQVaVrw03ixK', '관리자', 'admin@gmail.com', datetime.date(2023, 8, 12), 0, 'admin.jpg', '관리실')\n"
     ]
    }
   ],
   "source": [
    "for row in rows:\n",
    "    print(row)"
   ]
  },
  {
   "cell_type": "code",
   "execution_count": null,
   "metadata": {},
   "outputs": [],
   "source": []
  }
 ],
 "metadata": {
  "kernelspec": {
   "display_name": "base",
   "language": "python",
   "name": "python3"
  },
  "language_info": {
   "codemirror_mode": {
    "name": "ipython",
    "version": 3
   },
   "file_extension": ".py",
   "mimetype": "text/x-python",
   "name": "python",
   "nbconvert_exporter": "python",
   "pygments_lexer": "ipython3",
   "version": "3.10.9"
  },
  "orig_nbformat": 4
 },
 "nbformat": 4,
 "nbformat_minor": 2
}
