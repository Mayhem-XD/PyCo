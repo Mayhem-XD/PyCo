{
 "cells": [
  {
   "cell_type": "code",
   "execution_count": 1,
   "metadata": {},
   "outputs": [],
   "source": [
    "import json\n",
    "from mysql.connector import pooling\n",
    "\n",
    "with open('../../mysql.json') as f:\n",
    "    config_str = f.read()\n",
    "config = json.loads(config_str)\n",
    "pool = pooling.MySQLConnectionPool(pool_name=\"mypool\", pool_size=3, **config)"
   ]
  },
  {
   "cell_type": "code",
   "execution_count": 5,
   "metadata": {},
   "outputs": [],
   "source": [
    "def register_user(params):\n",
    "    conn = pool.get_connection()\n",
    "    cur = conn.cursor()\n",
    "    sql = \"insert into users values (%s, %s, %s, %s, default, default, %s, %s)\"\n",
    "    cur.execute(sql,params)\n",
    "    cur.fetchone()\n",
    "    conn.commit()\n",
    "    cur.close()\n",
    "    conn.close()"
   ]
  },
  {
   "cell_type": "code",
   "execution_count": 3,
   "metadata": {},
   "outputs": [],
   "source": [
    "params = ('sadie','$2a$10$x6QeH0qdmWcbVA8Njy.2LeasC3UUNTyOp9hsPNqT9QnclxfYu0Y.K','세이디','sadie@gmail.com',None,'경기도 화성시')"
   ]
  },
  {
   "cell_type": "code",
   "execution_count": 6,
   "metadata": {},
   "outputs": [],
   "source": [
    "register_user(params=params)"
   ]
  },
  {
   "cell_type": "code",
   "execution_count": 7,
   "metadata": {},
   "outputs": [],
   "source": [
    "params = ('세이디','$2a$10$x6QeH0qdmWcbVA8Njy.2LeasC3UUNTyOp9hsPNqT9QnclxfYu0Y.K','sadie@gmail.com',None,'경기도 수원시','sadie')"
   ]
  },
  {
   "cell_type": "code",
   "execution_count": 8,
   "metadata": {},
   "outputs": [],
   "source": [
    "def update_user(params):\n",
    "    conn = pool.get_connection()\n",
    "    cur = conn.cursor()\n",
    "    sql = \"update users set uname=%s, pwd=%s, email=%s, profile=%s, addr=%s where uid=%s\"\n",
    "    cur.execute(sql,params)\n",
    "    cur.fetchone()\n",
    "    conn.commit()\n",
    "    cur.close()\n",
    "    conn.close()"
   ]
  },
  {
   "cell_type": "code",
   "execution_count": 9,
   "metadata": {},
   "outputs": [],
   "source": [
    "update_user(params=params)"
   ]
  },
  {
   "cell_type": "code",
   "execution_count": null,
   "metadata": {},
   "outputs": [],
   "source": []
  }
 ],
 "metadata": {
  "kernelspec": {
   "display_name": "base",
   "language": "python",
   "name": "python3"
  },
  "language_info": {
   "codemirror_mode": {
    "name": "ipython",
    "version": 3
   },
   "file_extension": ".py",
   "mimetype": "text/x-python",
   "name": "python",
   "nbconvert_exporter": "python",
   "pygments_lexer": "ipython3",
   "version": "3.10.9"
  },
  "orig_nbformat": 4
 },
 "nbformat": 4,
 "nbformat_minor": 2
}
