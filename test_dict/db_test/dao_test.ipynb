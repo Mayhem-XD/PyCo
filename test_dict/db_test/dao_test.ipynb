{
 "cells": [
  {
   "cell_type": "code",
   "execution_count": 1,
   "metadata": {},
   "outputs": [],
   "source": [
    "import json\n",
    "from mysql.connector import pooling\n",
    "\n",
    "with open('../../mysql.json') as f:\n",
    "    config_str = f.read()\n",
    "config = json.loads(config_str)\n",
    "pool = pooling.MySQLConnectionPool(pool_name=\"mypool\", pool_size=3, **config)"
   ]
  },
  {
   "cell_type": "code",
   "execution_count": 7,
   "metadata": {},
   "outputs": [],
   "source": [
    "import json, hashlib, base64"
   ]
  },
  {
   "cell_type": "code",
   "execution_count": 5,
   "metadata": {},
   "outputs": [],
   "source": [
    "def register_user(params):\n",
    "    conn = pool.get_connection()\n",
    "    cur = conn.cursor()\n",
    "    sql = \"insert into users values (%s, %s, %s, %s, default, default, %s, %s)\"\n",
    "    cur.execute(sql,params)\n",
    "    cur.fetchone()\n",
    "    conn.commit()\n",
    "    cur.close()\n",
    "    conn.close()"
   ]
  },
  {
   "cell_type": "code",
   "execution_count": 3,
   "metadata": {},
   "outputs": [],
   "source": [
    "params = ('sadie','$2a$10$x6QeH0qdmWcbVA8Njy.2LeasC3UUNTyOp9hsPNqT9QnclxfYu0Y.K','세이디','sadie@gmail.com',None,'경기도 화성시')"
   ]
  },
  {
   "cell_type": "code",
   "execution_count": 6,
   "metadata": {},
   "outputs": [],
   "source": [
    "register_user(params=params)"
   ]
  },
  {
   "cell_type": "code",
   "execution_count": 7,
   "metadata": {},
   "outputs": [],
   "source": [
    "params = ('세이디','$2a$10$x6QeH0qdmWcbVA8Njy.2LeasC3UUNTyOp9hsPNqT9QnclxfYu0Y.K','sadie@gmail.com',None,'경기도 수원시','sadie')"
   ]
  },
  {
   "cell_type": "code",
   "execution_count": 8,
   "metadata": {},
   "outputs": [],
   "source": [
    "def update_user(params):\n",
    "    conn = pool.get_connection()\n",
    "    cur = conn.cursor()\n",
    "    sql = \"update users set uname=%s, pwd=%s, email=%s, profile=%s, addr=%s where uid=%s\"\n",
    "    cur.execute(sql,params)\n",
    "    cur.fetchone()\n",
    "    conn.commit()\n",
    "    cur.close()\n",
    "    conn.close()"
   ]
  },
  {
   "cell_type": "code",
   "execution_count": 9,
   "metadata": {},
   "outputs": [],
   "source": [
    "update_user(params=params)"
   ]
  },
  {
   "cell_type": "code",
   "execution_count": 2,
   "metadata": {},
   "outputs": [],
   "source": [
    "def get_user(uid):\n",
    "    conn = pool.get_connection()\n",
    "    cur = conn.cursor()\n",
    "    sql = \"select * from users where uid=%s\"\n",
    "    cur.execute(sql,(uid,))\n",
    "    row = cur.fetchone()\n",
    "    cur.close()\n",
    "    conn.close()\n",
    "    return row"
   ]
  },
  {
   "cell_type": "code",
   "execution_count": 11,
   "metadata": {},
   "outputs": [
    {
     "data": {
      "text/plain": [
       "'$2a$10$oes0BOP7JDvpuRk0YHgZrOYV7./ocgn6NrosvM9wcnQVaVrw03ixK'"
      ]
     },
     "execution_count": 11,
     "metadata": {},
     "output_type": "execute_result"
    }
   ],
   "source": [
    "get_user('admin')[1]"
   ]
  },
  {
   "cell_type": "code",
   "execution_count": 3,
   "metadata": {},
   "outputs": [],
   "source": [
    "UID_NOT_EXIST = 0\n",
    "CORRECT_LOGIN = 1\n",
    "WRONG_PASSWORD = 2"
   ]
  },
  {
   "cell_type": "code",
   "execution_count": 10,
   "metadata": {},
   "outputs": [],
   "source": [
    "def login(uid,pwd):\n",
    "    user = get_user(uid)\n",
    "    pwd_sha256 = hashlib.sha256(pwd.encode())\n",
    "    hashed_pwd = base64.b64encode(pwd_sha256.digest()).decode('utf-8')\n",
    "    if user == None:\n",
    "        return UID_NOT_EXIST\n",
    "    elif hashed_pwd == user[1]:\n",
    "        return CORRECT_LOGIN\n",
    "    else:\n",
    "        return WRONG_PASSWORD"
   ]
  },
  {
   "cell_type": "code",
   "execution_count": 18,
   "metadata": {},
   "outputs": [
    {
     "data": {
      "text/plain": [
       "1"
      ]
     },
     "execution_count": 18,
     "metadata": {},
     "output_type": "execute_result"
    }
   ],
   "source": [
    "login('admin','admin')"
   ]
  },
  {
   "cell_type": "code",
   "execution_count": 21,
   "metadata": {},
   "outputs": [],
   "source": [
    "pwd = 'sadie'\n",
    "pwd_sha256 = hashlib.sha256(pwd.encode())\n",
    "hashed_pwd = base64.b64encode(pwd_sha256.digest()).decode('utf-8')"
   ]
  },
  {
   "cell_type": "code",
   "execution_count": null,
   "metadata": {},
   "outputs": [],
   "source": [
    "\n",
    "#             if hashed_pwd == db_pwd:\n",
    "#                 flash('good')\n",
    "#                 session['uid'] = uid        # 세션값을 설정함으로써 사용자가 로그인하였음을 알게 해줌\n",
    "#                 return redirect('/')\n",
    "#             else:\n",
    "#                 flash('잘못된 pwd')\n",
    "#                 return redirect('/user/login')\n",
    "#         except:\n",
    "#             flash('잘못된 id')\n",
    "#             return redirect('/user/register')"
   ]
  }
 ],
 "metadata": {
  "kernelspec": {
   "display_name": "base",
   "language": "python",
   "name": "python3"
  },
  "language_info": {
   "codemirror_mode": {
    "name": "ipython",
    "version": 3
   },
   "file_extension": ".py",
   "mimetype": "text/x-python",
   "name": "python",
   "nbconvert_exporter": "python",
   "pygments_lexer": "ipython3",
   "version": "3.10.9"
  },
  "orig_nbformat": 4
 },
 "nbformat": 4,
 "nbformat_minor": 2
}
