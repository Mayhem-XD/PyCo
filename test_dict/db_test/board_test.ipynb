{
 "cells": [
  {
   "cell_type": "code",
   "execution_count": 1,
   "metadata": {},
   "outputs": [],
   "source": [
    "import json, hashlib, base64\n",
    "from mysql.connector import pooling\n",
    "\n",
    "with open('../../mysql.json') as f:\n",
    "    config_str = f.read()\n",
    "config = json.loads(config_str)\n",
    "pool = pooling.MySQLConnectionPool(pool_name=\"mypool\", pool_size=3, **config)"
   ]
  },
  {
   "cell_type": "code",
   "execution_count": 2,
   "metadata": {},
   "outputs": [],
   "source": [
    "def get_board(bid):\n",
    "    conn = pool.get_connection()\n",
    "    cur = conn.cursor()\n",
    "    sql = \"SELECT b.bid, b.uid, b.title, b.content, b.modTime, b.viewCount, b.replyCount, b.files, u.uname \\\n",
    "        FROM board AS b JOIN users AS u ON b.uid=u.uid WHERE b.bid=%s\"\n",
    "    cur.execute(sql,(bid,))\n",
    "    row = cur.fetchone()\n",
    "    cur.close()\n",
    "    conn.close()\n",
    "    return row"
   ]
  },
  {
   "cell_type": "code",
   "execution_count": 3,
   "metadata": {},
   "outputs": [
    {
     "data": {
      "text/plain": [
       "(1,\n",
       " 'james',\n",
       " 'test title',\n",
       " 'contents',\n",
       " datetime.datetime(2023, 8, 16, 18, 13, 56),\n",
       " 0,\n",
       " 0,\n",
       " '{\"list\":[]}',\n",
       " '제임스')"
      ]
     },
     "execution_count": 3,
     "metadata": {},
     "output_type": "execute_result"
    }
   ],
   "source": [
    "b = get_board(1)\n",
    "b"
   ]
  },
  {
   "cell_type": "code",
   "execution_count": 3,
   "metadata": {},
   "outputs": [],
   "source": [
    "field = 'title'\n",
    "query = ''"
   ]
  },
  {
   "cell_type": "code",
   "execution_count": 4,
   "metadata": {},
   "outputs": [],
   "source": [
    "def get_board_count(field, query):\n",
    "    conn = pool.get_connection()\n",
    "    cur = conn.cursor()\n",
    "    sql = \"select count(bid) from board where isDeleted=0 AND %s like %s\"\n",
    "    cur.execute(sql,(field,f'%{query}%'))\n",
    "    row = cur.fetchone()\n",
    "    cur.close()\n",
    "    conn.close()\n",
    "    return row"
   ]
  },
  {
   "cell_type": "code",
   "execution_count": 9,
   "metadata": {},
   "outputs": [
    {
     "data": {
      "text/plain": [
       "12"
      ]
     },
     "execution_count": 9,
     "metadata": {},
     "output_type": "execute_result"
    }
   ],
   "source": [
    "a = get_board_count(field=field, query=query)[0]\n",
    "a"
   ]
  },
  {
   "cell_type": "code",
   "execution_count": 6,
   "metadata": {},
   "outputs": [],
   "source": [
    "def insert_board(params):\n",
    "    conn = pool.get_connection()\n",
    "    cur = conn.cursor()\n",
    "    sql = \"insert into board values(default, %s, %s, %s, default, default, default, default, %s)\"\n",
    "    cur.execute(sql,params)\n",
    "    row = cur.fetchone()\n",
    "    conn.commit()\n",
    "    cur.close()\n",
    "    conn.close()\n",
    "    return row"
   ]
  },
  {
   "cell_type": "code",
   "execution_count": 7,
   "metadata": {},
   "outputs": [],
   "source": [
    "params = ('james','untitle','contents','{\"list\":[]}')"
   ]
  },
  {
   "cell_type": "code",
   "execution_count": 8,
   "metadata": {},
   "outputs": [],
   "source": [
    "c = insert_board(params)"
   ]
  },
  {
   "cell_type": "code",
   "execution_count": 10,
   "metadata": {},
   "outputs": [],
   "source": [
    "def update_board(params):\n",
    "    conn = pool.get_connection()\n",
    "    cur = conn.cursor()\n",
    "    sql = \"update board set title=%s, content=%s, modTime=now(), files=%s where bid=%s\"\n",
    "    cur.execute(sql,params)\n",
    "    row = cur.fetchone()\n",
    "    conn.commit()\n",
    "    cur.close()\n",
    "    conn.close()\n",
    "    return row"
   ]
  },
  {
   "cell_type": "code",
   "execution_count": 13,
   "metadata": {},
   "outputs": [],
   "source": [
    "params = ('title','contents','{\"list\":[]}',9)"
   ]
  },
  {
   "cell_type": "code",
   "execution_count": 14,
   "metadata": {},
   "outputs": [],
   "source": [
    "update_board(params)"
   ]
  },
  {
   "cell_type": "code",
   "execution_count": 15,
   "metadata": {},
   "outputs": [],
   "source": [
    "def delete_board(bid):\n",
    "    conn = pool.get_connection()\n",
    "    cur = conn.cursor()\n",
    "    sql = \"UPDATE board SET isDeleted=1 WHERE bid=%s\"\n",
    "    cur.execute(sql,(bid,))\n",
    "    row = cur.fetchone()\n",
    "    conn.commit()\n",
    "    cur.close()\n",
    "    conn.close()\n",
    "    return row"
   ]
  },
  {
   "cell_type": "code",
   "execution_count": 16,
   "metadata": {},
   "outputs": [],
   "source": [
    "delete_board(1)"
   ]
  },
  {
   "cell_type": "code",
   "execution_count": 6,
   "metadata": {},
   "outputs": [],
   "source": [
    "def increase_count(field,bid):\n",
    "    conn = pool.get_connection()\n",
    "    cur = conn.cursor()\n",
    "    sql = f\"UPDATE board SET {field}={field}+1 where bid = %s\"\n",
    "    cur.execute(sql,(bid,))\n",
    "    cur.fetchone()\n",
    "    conn.commit()\n",
    "    cur.close()\n",
    "    conn.close()\n"
   ]
  },
  {
   "cell_type": "code",
   "execution_count": 7,
   "metadata": {},
   "outputs": [],
   "source": [
    "increase_count(field='viewCount',bid=2)"
   ]
  },
  {
   "cell_type": "code",
   "execution_count": 8,
   "metadata": {},
   "outputs": [],
   "source": [
    "def decrease_reply_count(bid):\n",
    "    conn = pool.get_connection()\n",
    "    cur = conn.cursor()\n",
    "    sql = \"UPDATE board SET replyCount=replyCOunt-1 where bid = %s\"\n",
    "    cur.execute(sql,(bid,))\n",
    "    cur.fetchone()\n",
    "    conn.commit()\n",
    "    cur.close()\n",
    "    conn.close()"
   ]
  },
  {
   "cell_type": "code",
   "execution_count": 9,
   "metadata": {},
   "outputs": [],
   "source": [
    "increase_count(field='replyCount',bid=2)"
   ]
  },
  {
   "cell_type": "code",
   "execution_count": 10,
   "metadata": {},
   "outputs": [],
   "source": [
    "decrease_reply_count(2)"
   ]
  },
  {
   "cell_type": "code",
   "execution_count": null,
   "metadata": {},
   "outputs": [],
   "source": []
  }
 ],
 "metadata": {
  "kernelspec": {
   "display_name": "base",
   "language": "python",
   "name": "python3"
  },
  "language_info": {
   "codemirror_mode": {
    "name": "ipython",
    "version": 3
   },
   "file_extension": ".py",
   "mimetype": "text/x-python",
   "name": "python",
   "nbconvert_exporter": "python",
   "pygments_lexer": "ipython3",
   "version": "3.10.9"
  },
  "orig_nbformat": 4
 },
 "nbformat": 4,
 "nbformat_minor": 2
}
