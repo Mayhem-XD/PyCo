{
 "cells": [
  {
   "cell_type": "code",
   "execution_count": 1,
   "metadata": {},
   "outputs": [],
   "source": [
    "import json, hashlib, base64\n",
    "from mysql.connector import pooling\n",
    "\n",
    "with open('../../mysql.json') as f:\n",
    "    config_str = f.read()\n",
    "config = json.loads(config_str)\n",
    "pool = pooling.MySQLConnectionPool(pool_name=\"mypool\", pool_size=3, **config)"
   ]
  },
  {
   "cell_type": "code",
   "execution_count": 2,
   "metadata": {},
   "outputs": [],
   "source": [
    "def get_board(bid):\n",
    "    conn = pool.get_connection()\n",
    "    cur = conn.cursor()\n",
    "    sql = \"SELECT b.bid, b.uid, b.title, b.content, b.modTime, b.viewCount, b.replyCount, b.files, u.uname \\\n",
    "        FROM board AS b JOIN users AS u ON b.uid=u.uid WHERE b.bid=%s\"\n",
    "    cur.execute(sql,(bid,))\n",
    "    row = cur.fetchone()\n",
    "    cur.close()\n",
    "    conn.close()\n",
    "    return row"
   ]
  },
  {
   "cell_type": "code",
   "execution_count": 3,
   "metadata": {},
   "outputs": [
    {
     "data": {
      "text/plain": [
       "(1,\n",
       " 'james',\n",
       " 'test title',\n",
       " 'contents',\n",
       " datetime.datetime(2023, 8, 16, 18, 13, 56),\n",
       " 0,\n",
       " 0,\n",
       " '{\"list\":[]}',\n",
       " '제임스')"
      ]
     },
     "execution_count": 3,
     "metadata": {},
     "output_type": "execute_result"
    }
   ],
   "source": [
    "b = get_board(1)\n",
    "b"
   ]
  },
  {
   "cell_type": "code",
   "execution_count": 3,
   "metadata": {},
   "outputs": [],
   "source": [
    "field = 'title'\n",
    "query = ''"
   ]
  },
  {
   "cell_type": "code",
   "execution_count": 4,
   "metadata": {},
   "outputs": [],
   "source": [
    "def get_board_count(field, query):\n",
    "    conn = pool.get_connection()\n",
    "    cur = conn.cursor()\n",
    "    sql = \"select count(bid) from board where isDeleted=0 AND %s like %s\"\n",
    "    cur.execute(sql,(field,f'%{query}%'))\n",
    "    row = cur.fetchone()\n",
    "    cur.close()\n",
    "    conn.close()\n",
    "    return row"
   ]
  },
  {
   "cell_type": "code",
   "execution_count": 9,
   "metadata": {},
   "outputs": [
    {
     "data": {
      "text/plain": [
       "12"
      ]
     },
     "execution_count": 9,
     "metadata": {},
     "output_type": "execute_result"
    }
   ],
   "source": [
    "a = get_board_count(field=field, query=query)[0]\n",
    "a"
   ]
  },
  {
   "cell_type": "code",
   "execution_count": 6,
   "metadata": {},
   "outputs": [],
   "source": [
    "def insert_board(params):\n",
    "    conn = pool.get_connection()\n",
    "    cur = conn.cursor()\n",
    "    sql = \"insert into board values(default, %s, %s, %s, default, default, default, default, %s)\"\n",
    "    cur.execute(sql,params)\n",
    "    row = cur.fetchone()\n",
    "    conn.commit()\n",
    "    cur.close()\n",
    "    conn.close()\n",
    "    return row"
   ]
  },
  {
   "cell_type": "code",
   "execution_count": 7,
   "metadata": {},
   "outputs": [],
   "source": [
    "params = ('james','untitle','contents','{\"list\":[]}')"
   ]
  },
  {
   "cell_type": "code",
   "execution_count": 8,
   "metadata": {},
   "outputs": [],
   "source": [
    "c = insert_board(params)"
   ]
  },
  {
   "cell_type": "code",
   "execution_count": 10,
   "metadata": {},
   "outputs": [],
   "source": [
    "def update_board(params):\n",
    "    conn = pool.get_connection()\n",
    "    cur = conn.cursor()\n",
    "    sql = \"update board set title=%s, content=%s, modTime=now(), files=%s where bid=%s\"\n",
    "    cur.execute(sql,params)\n",
    "    row = cur.fetchone()\n",
    "    conn.commit()\n",
    "    cur.close()\n",
    "    conn.close()\n",
    "    return row"
   ]
  },
  {
   "cell_type": "code",
   "execution_count": 13,
   "metadata": {},
   "outputs": [],
   "source": [
    "params = ('title','contents','{\"list\":[]}',9)"
   ]
  },
  {
   "cell_type": "code",
   "execution_count": 14,
   "metadata": {},
   "outputs": [],
   "source": [
    "update_board(params)"
   ]
  },
  {
   "cell_type": "code",
   "execution_count": 15,
   "metadata": {},
   "outputs": [],
   "source": [
    "def delete_board(bid):\n",
    "    conn = pool.get_connection()\n",
    "    cur = conn.cursor()\n",
    "    sql = \"UPDATE board SET isDeleted=1 WHERE bid=%s\"\n",
    "    cur.execute(sql,(bid,))\n",
    "    row = cur.fetchone()\n",
    "    conn.commit()\n",
    "    cur.close()\n",
    "    conn.close()\n",
    "    return row"
   ]
  },
  {
   "cell_type": "code",
   "execution_count": 16,
   "metadata": {},
   "outputs": [],
   "source": [
    "delete_board(1)"
   ]
  },
  {
   "cell_type": "code",
   "execution_count": 6,
   "metadata": {},
   "outputs": [],
   "source": [
    "def increase_count(field,bid):\n",
    "    conn = pool.get_connection()\n",
    "    cur = conn.cursor()\n",
    "    sql = f\"UPDATE board SET {field}={field}+1 where bid = %s\"\n",
    "    cur.execute(sql,(bid,))\n",
    "    cur.fetchone()\n",
    "    conn.commit()\n",
    "    cur.close()\n",
    "    conn.close()\n"
   ]
  },
  {
   "cell_type": "code",
   "execution_count": 7,
   "metadata": {},
   "outputs": [],
   "source": [
    "increase_count(field='viewCount',bid=2)"
   ]
  },
  {
   "cell_type": "code",
   "execution_count": 8,
   "metadata": {},
   "outputs": [],
   "source": [
    "def decrease_reply_count(bid):\n",
    "    conn = pool.get_connection()\n",
    "    cur = conn.cursor()\n",
    "    sql = \"UPDATE board SET replyCount=replyCOunt-1 where bid = %s\"\n",
    "    cur.execute(sql,(bid,))\n",
    "    cur.fetchone()\n",
    "    conn.commit()\n",
    "    cur.close()\n",
    "    conn.close()"
   ]
  },
  {
   "cell_type": "code",
   "execution_count": 9,
   "metadata": {},
   "outputs": [],
   "source": [
    "increase_count(field='replyCount',bid=2)"
   ]
  },
  {
   "cell_type": "code",
   "execution_count": 10,
   "metadata": {},
   "outputs": [],
   "source": [
    "decrease_reply_count(2)"
   ]
  },
  {
   "cell_type": "code",
   "execution_count": 2,
   "metadata": {},
   "outputs": [],
   "source": [
    "def get_reply_list(bid):\n",
    "    \n",
    "    conn = pool.get_connection()\n",
    "    cur = conn.cursor()\n",
    "    sql = \"SELECT r.rid, r.`comment`, r.regTime, r.isMine, r.uid, r.bid, u.uname \\\n",
    "        FROM reply AS r JOIN users AS u ON r.uid=u.uid WHERE bid=%s\"\n",
    "    cur.execute(sql,(bid,))\n",
    "    rows = cur.fetchall()\n",
    "    cur.close()\n",
    "    conn.close()\n",
    "    return rows"
   ]
  },
  {
   "cell_type": "code",
   "execution_count": 5,
   "metadata": {},
   "outputs": [],
   "source": [
    "cc = get_reply_list(17)"
   ]
  },
  {
   "cell_type": "code",
   "execution_count": 6,
   "metadata": {},
   "outputs": [
    {
     "name": "stdout",
     "output_type": "stream",
     "text": [
      "(1, '노잼', datetime.datetime(2023, 8, 18, 19, 5, 2), 1, 'james', 17, '제임스')\n",
      "(2, '삭제해주세요', datetime.datetime(2023, 8, 18, 19, 5, 41), 0, 'sara', 17, '사라')\n"
     ]
    }
   ],
   "source": [
    "for c in cc:\n",
    "    print(c)"
   ]
  },
  {
   "cell_type": "code",
   "execution_count": 10,
   "metadata": {},
   "outputs": [],
   "source": [
    "def insert_reply(params):\n",
    "    conn = pool.get_connection()\n",
    "    cur = conn.cursor()\n",
    "    sql = \"INSERT INTO reply VALUES (default, %s, default, %s, %s, %s)\"\n",
    "    cur.execute(sql,params)\n",
    "    row = cur.fetchone()\n",
    "    conn.commit()\n",
    "    cur.close()\n",
    "    conn.close()\n",
    "    return row"
   ]
  },
  {
   "cell_type": "code",
   "execution_count": 11,
   "metadata": {},
   "outputs": [],
   "source": [
    "params = ('test_re',0,'lucy',17)"
   ]
  },
  {
   "cell_type": "code",
   "execution_count": 12,
   "metadata": {},
   "outputs": [],
   "source": [
    "insert_reply(params)"
   ]
  },
  {
   "cell_type": "code",
   "execution_count": 3,
   "metadata": {},
   "outputs": [],
   "source": [
    "def get_board_list(field, query, offset):\n",
    "    conn = pool.get_connection()\n",
    "    cur = conn.cursor()\n",
    "    sql = \"SELECT b.bid, b.uid, b.title, b.modTime, b.viewCount, b.replyCount, u.uname FROM board AS b \\\n",
    "        JOIN users AS u ON b.uid=u.uid WHERE b.isDeleted=0 AND %s LIKE %s ORDER BY b.modTime DESC LIMIT 10 OFFSET %s\"\n",
    "    cur.execute(sql,(field,f'%{query}%', offset))\n",
    "    row = cur.fetchall()\n",
    "    cur.close()\n",
    "    conn.close()\n",
    "    return row"
   ]
  },
  {
   "cell_type": "code",
   "execution_count": 4,
   "metadata": {},
   "outputs": [],
   "source": [
    "qq = get_board_list('title','',1)"
   ]
  },
  {
   "cell_type": "code",
   "execution_count": 5,
   "metadata": {},
   "outputs": [
    {
     "name": "stdout",
     "output_type": "stream",
     "text": [
      "(17, 'james', 'untitle', datetime.datetime(2023, 8, 18, 0, 14, 14), 0, 0, '제임스')\n",
      "(12, 'sadie', 'shotgun', datetime.datetime(2023, 8, 17, 23, 13, 53), 0, 0, '세이디')\n",
      "(11, 'spring', 'summer', datetime.datetime(2023, 8, 17, 23, 12, 56), 0, 0, '스프링')\n",
      "(10, 'segue', 'fan service', datetime.datetime(2023, 8, 17, 23, 12, 18), 0, 0, '세구')\n",
      "(8, 'whale', '고래', datetime.datetime(2023, 8, 17, 23, 10, 38), 0, 0, '웨일')\n",
      "(7, 'arthur', '블랙워터에', datetime.datetime(2023, 8, 17, 23, 10, 8), 0, 0, '아서')\n",
      "(6, 'spring', '사실 오늘은', datetime.datetime(2023, 8, 17, 23, 9, 20), 0, 0, '스프링')\n",
      "(4, 'kate', 'k-title', datetime.datetime(2023, 8, 17, 23, 8, 38), 0, 0, '케이트')\n",
      "(3, 'adler', 'devil run', datetime.datetime(2023, 8, 16, 18, 16, 29), 0, 0, '애들러')\n",
      "(2, 'lucy', 'lucy test', datetime.datetime(2023, 8, 16, 18, 14, 28), 2, 0, '루시')\n"
     ]
    }
   ],
   "source": [
    "for q in qq:\n",
    "    print(q)"
   ]
  },
  {
   "cell_type": "code",
   "execution_count": 26,
   "metadata": {},
   "outputs": [
    {
     "data": {
      "text/plain": [
       "datetime.datetime(2023, 8, 18, 0, 14, 14)"
      ]
     },
     "execution_count": 26,
     "metadata": {},
     "output_type": "execute_result"
    }
   ],
   "source": [
    "qq[0][3]"
   ]
  },
  {
   "cell_type": "code",
   "execution_count": 23,
   "metadata": {},
   "outputs": [
    {
     "data": {
      "text/plain": [
       "'2023-08-18'"
      ]
     },
     "execution_count": 23,
     "metadata": {},
     "output_type": "execute_result"
    }
   ],
   "source": [
    "from datetime import date\n",
    "rrrrrr = date.today().isoformat()\n",
    "rrrrrr"
   ]
  },
  {
   "cell_type": "code",
   "execution_count": 45,
   "metadata": {},
   "outputs": [
    {
     "data": {
      "text/plain": [
       "datetime.datetime(2023, 8, 18, 22, 58, 36, 995557)"
      ]
     },
     "execution_count": 45,
     "metadata": {},
     "output_type": "execute_result"
    }
   ],
   "source": [
    "from datetime import datetime\n",
    "today = datetime.today()\n",
    "today\n"
   ]
  },
  {
   "cell_type": "code",
   "execution_count": 35,
   "metadata": {},
   "outputs": [],
   "source": [
    "today = '2023-08-17 23:12:56'"
   ]
  },
  {
   "cell_type": "code",
   "execution_count": 36,
   "metadata": {},
   "outputs": [
    {
     "name": "stdout",
     "output_type": "stream",
     "text": [
      "a\n"
     ]
    }
   ],
   "source": [
    "if today == qq[0][3]:\n",
    "    print('b')\n",
    "else:\n",
    "    print('a')"
   ]
  },
  {
   "cell_type": "code",
   "execution_count": 49,
   "metadata": {},
   "outputs": [
    {
     "ename": "TypeError",
     "evalue": "datetime.today() takes no arguments (1 given)",
     "output_type": "error",
     "traceback": [
      "\u001b[1;31m---------------------------------------------------------------------------\u001b[0m",
      "\u001b[1;31mTypeError\u001b[0m                                 Traceback (most recent call last)",
      "Cell \u001b[1;32mIn[49], line 1\u001b[0m\n\u001b[1;32m----> 1\u001b[0m today \u001b[39m=\u001b[39m datetime\u001b[39m.\u001b[39;49mtoday(qq[\u001b[39m0\u001b[39;49m][\u001b[39m3\u001b[39;49m])\n",
      "\u001b[1;31mTypeError\u001b[0m: datetime.today() takes no arguments (1 given)"
     ]
    }
   ],
   "source": [
    "today = datetime.today(qq[0][3])"
   ]
  },
  {
   "cell_type": "code",
   "execution_count": null,
   "metadata": {},
   "outputs": [],
   "source": []
  }
 ],
 "metadata": {
  "kernelspec": {
   "display_name": "base",
   "language": "python",
   "name": "python3"
  },
  "language_info": {
   "codemirror_mode": {
    "name": "ipython",
    "version": 3
   },
   "file_extension": ".py",
   "mimetype": "text/x-python",
   "name": "python",
   "nbconvert_exporter": "python",
   "pygments_lexer": "ipython3",
   "version": "3.10.9"
  },
  "orig_nbformat": 4
 },
 "nbformat": 4,
 "nbformat_minor": 2
}
